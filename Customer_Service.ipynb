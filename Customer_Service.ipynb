{
 "cells": [
  {
   "cell_type": "markdown",
   "id": "c8910343",
   "metadata": {},
   "source": [
    "## Customer Service"
   ]
  },
  {
   "cell_type": "code",
   "execution_count": 1,
   "id": "48270e87",
   "metadata": {},
   "outputs": [],
   "source": [
    "import pandas as pd\n",
    "import numpy as np\n",
    "import matplotlib.pyplot as plt"
   ]
  },
  {
   "cell_type": "code",
   "execution_count": 2,
   "id": "653b2036",
   "metadata": {},
   "outputs": [],
   "source": [
    "data=pd.read_csv('Pep Analytics Test.csv')"
   ]
  },
  {
   "cell_type": "code",
   "execution_count": 3,
   "id": "3e6204c2",
   "metadata": {},
   "outputs": [
    {
     "data": {
      "text/html": [
       "<div>\n",
       "<style scoped>\n",
       "    .dataframe tbody tr th:only-of-type {\n",
       "        vertical-align: middle;\n",
       "    }\n",
       "\n",
       "    .dataframe tbody tr th {\n",
       "        vertical-align: top;\n",
       "    }\n",
       "\n",
       "    .dataframe thead th {\n",
       "        text-align: right;\n",
       "    }\n",
       "</style>\n",
       "<table border=\"1\" class=\"dataframe\">\n",
       "  <thead>\n",
       "    <tr style=\"text-align: right;\">\n",
       "      <th></th>\n",
       "      <th>Transaction_ID</th>\n",
       "      <th>Profile ID</th>\n",
       "      <th>Date_of_Booking</th>\n",
       "      <th>Date_of_Service_Requested</th>\n",
       "      <th>Source</th>\n",
       "      <th>Slot of Booking (Hour of the Day)</th>\n",
       "    </tr>\n",
       "  </thead>\n",
       "  <tbody>\n",
       "    <tr>\n",
       "      <th>0</th>\n",
       "      <td>BBCHH</td>\n",
       "      <td>1</td>\n",
       "      <td>2018-05-20</td>\n",
       "      <td>2018-05-21</td>\n",
       "      <td>D</td>\n",
       "      <td>14</td>\n",
       "    </tr>\n",
       "    <tr>\n",
       "      <th>1</th>\n",
       "      <td>CHWFD</td>\n",
       "      <td>1</td>\n",
       "      <td>2018-09-23</td>\n",
       "      <td>2018-09-23</td>\n",
       "      <td>C</td>\n",
       "      <td>8</td>\n",
       "    </tr>\n",
       "    <tr>\n",
       "      <th>2</th>\n",
       "      <td>DYDMF</td>\n",
       "      <td>2</td>\n",
       "      <td>2018-11-10</td>\n",
       "      <td>2018-11-13</td>\n",
       "      <td>C</td>\n",
       "      <td>11</td>\n",
       "    </tr>\n",
       "    <tr>\n",
       "      <th>3</th>\n",
       "      <td>EZYSA</td>\n",
       "      <td>3</td>\n",
       "      <td>2018-04-12</td>\n",
       "      <td>2018-04-16</td>\n",
       "      <td>B</td>\n",
       "      <td>8</td>\n",
       "    </tr>\n",
       "    <tr>\n",
       "      <th>4</th>\n",
       "      <td>HWAKX</td>\n",
       "      <td>3</td>\n",
       "      <td>2018-08-05</td>\n",
       "      <td>2018-08-06</td>\n",
       "      <td>B</td>\n",
       "      <td>11</td>\n",
       "    </tr>\n",
       "  </tbody>\n",
       "</table>\n",
       "</div>"
      ],
      "text/plain": [
       "  Transaction_ID  Profile ID Date_of_Booking Date_of_Service_Requested Source  \\\n",
       "0          BBCHH           1      2018-05-20                2018-05-21      D   \n",
       "1          CHWFD           1      2018-09-23                2018-09-23      C   \n",
       "2          DYDMF           2      2018-11-10                2018-11-13      C   \n",
       "3          EZYSA           3      2018-04-12                2018-04-16      B   \n",
       "4          HWAKX           3      2018-08-05                2018-08-06      B   \n",
       "\n",
       "   Slot of Booking (Hour of the Day)  \n",
       "0                                 14  \n",
       "1                                  8  \n",
       "2                                 11  \n",
       "3                                  8  \n",
       "4                                 11  "
      ]
     },
     "execution_count": 3,
     "metadata": {},
     "output_type": "execute_result"
    }
   ],
   "source": [
    "data.head()"
   ]
  },
  {
   "cell_type": "code",
   "execution_count": 4,
   "id": "86c5bc3b",
   "metadata": {},
   "outputs": [
    {
     "data": {
      "text/plain": [
       "(30940, 6)"
      ]
     },
     "execution_count": 4,
     "metadata": {},
     "output_type": "execute_result"
    }
   ],
   "source": [
    "data.shape"
   ]
  },
  {
   "cell_type": "markdown",
   "id": "98f98aa0",
   "metadata": {},
   "source": [
    "### 1.    Plot new users acquired every month on a bar chart (New user in a month = a customer who has placed a request for the first time in this month)\n"
   ]
  },
  {
   "cell_type": "code",
   "execution_count": 5,
   "id": "63309144",
   "metadata": {},
   "outputs": [
    {
     "data": {
      "text/plain": [
       "Index(['Transaction_ID', 'Profile ID', 'Date_of_Booking',\n",
       "       'Date_of_Service_Requested', 'Source',\n",
       "       'Slot of Booking (Hour of the Day)'],\n",
       "      dtype='object')"
      ]
     },
     "execution_count": 5,
     "metadata": {},
     "output_type": "execute_result"
    }
   ],
   "source": [
    "data.columns"
   ]
  },
  {
   "cell_type": "code",
   "execution_count": 6,
   "id": "0e633a92",
   "metadata": {},
   "outputs": [],
   "source": [
    "li=[]\n",
    "for i in data['Profile ID'].value_counts():\n",
    "        if i==1:\n",
    "            li.append(i)"
   ]
  },
  {
   "cell_type": "code",
   "execution_count": 7,
   "id": "f51ae11b",
   "metadata": {},
   "outputs": [
    {
     "data": {
      "text/plain": [
       "Transaction_ID                       object\n",
       "Profile ID                            int64\n",
       "Date_of_Booking                      object\n",
       "Date_of_Service_Requested            object\n",
       "Source                               object\n",
       "Slot of Booking (Hour of the Day)     int64\n",
       "dtype: object"
      ]
     },
     "execution_count": 7,
     "metadata": {},
     "output_type": "execute_result"
    }
   ],
   "source": [
    "data.dtypes"
   ]
  },
  {
   "cell_type": "code",
   "execution_count": 8,
   "id": "e61206cd",
   "metadata": {},
   "outputs": [],
   "source": [
    "li=[]\n",
    "for i in data['Date_of_Booking']:\n",
    "    re=i.split('-')\n",
    "    li.append(re)"
   ]
  },
  {
   "cell_type": "code",
   "execution_count": 9,
   "id": "3ae5a908",
   "metadata": {},
   "outputs": [],
   "source": [
    "fetch_date=pd.DataFrame(li,columns=['Year','Month','Day'])"
   ]
  },
  {
   "cell_type": "code",
   "execution_count": 10,
   "id": "786d044d",
   "metadata": {},
   "outputs": [],
   "source": [
    "df=pd.concat([data,fetch_date],axis=1)"
   ]
  },
  {
   "cell_type": "code",
   "execution_count": 11,
   "id": "c85aacfb",
   "metadata": {},
   "outputs": [
    {
     "data": {
      "text/html": [
       "<div>\n",
       "<style scoped>\n",
       "    .dataframe tbody tr th:only-of-type {\n",
       "        vertical-align: middle;\n",
       "    }\n",
       "\n",
       "    .dataframe tbody tr th {\n",
       "        vertical-align: top;\n",
       "    }\n",
       "\n",
       "    .dataframe thead th {\n",
       "        text-align: right;\n",
       "    }\n",
       "</style>\n",
       "<table border=\"1\" class=\"dataframe\">\n",
       "  <thead>\n",
       "    <tr style=\"text-align: right;\">\n",
       "      <th></th>\n",
       "      <th>Transaction_ID</th>\n",
       "      <th>Profile ID</th>\n",
       "      <th>Date_of_Booking</th>\n",
       "      <th>Date_of_Service_Requested</th>\n",
       "      <th>Source</th>\n",
       "      <th>Slot of Booking (Hour of the Day)</th>\n",
       "      <th>Year</th>\n",
       "      <th>Month</th>\n",
       "      <th>Day</th>\n",
       "    </tr>\n",
       "  </thead>\n",
       "  <tbody>\n",
       "    <tr>\n",
       "      <th>0</th>\n",
       "      <td>BBCHH</td>\n",
       "      <td>1</td>\n",
       "      <td>2018-05-20</td>\n",
       "      <td>2018-05-21</td>\n",
       "      <td>D</td>\n",
       "      <td>14</td>\n",
       "      <td>2018</td>\n",
       "      <td>05</td>\n",
       "      <td>20</td>\n",
       "    </tr>\n",
       "    <tr>\n",
       "      <th>1</th>\n",
       "      <td>CHWFD</td>\n",
       "      <td>1</td>\n",
       "      <td>2018-09-23</td>\n",
       "      <td>2018-09-23</td>\n",
       "      <td>C</td>\n",
       "      <td>8</td>\n",
       "      <td>2018</td>\n",
       "      <td>09</td>\n",
       "      <td>23</td>\n",
       "    </tr>\n",
       "    <tr>\n",
       "      <th>2</th>\n",
       "      <td>DYDMF</td>\n",
       "      <td>2</td>\n",
       "      <td>2018-11-10</td>\n",
       "      <td>2018-11-13</td>\n",
       "      <td>C</td>\n",
       "      <td>11</td>\n",
       "      <td>2018</td>\n",
       "      <td>11</td>\n",
       "      <td>10</td>\n",
       "    </tr>\n",
       "    <tr>\n",
       "      <th>3</th>\n",
       "      <td>EZYSA</td>\n",
       "      <td>3</td>\n",
       "      <td>2018-04-12</td>\n",
       "      <td>2018-04-16</td>\n",
       "      <td>B</td>\n",
       "      <td>8</td>\n",
       "      <td>2018</td>\n",
       "      <td>04</td>\n",
       "      <td>12</td>\n",
       "    </tr>\n",
       "    <tr>\n",
       "      <th>4</th>\n",
       "      <td>HWAKX</td>\n",
       "      <td>3</td>\n",
       "      <td>2018-08-05</td>\n",
       "      <td>2018-08-06</td>\n",
       "      <td>B</td>\n",
       "      <td>11</td>\n",
       "      <td>2018</td>\n",
       "      <td>08</td>\n",
       "      <td>05</td>\n",
       "    </tr>\n",
       "  </tbody>\n",
       "</table>\n",
       "</div>"
      ],
      "text/plain": [
       "  Transaction_ID  Profile ID Date_of_Booking Date_of_Service_Requested Source  \\\n",
       "0          BBCHH           1      2018-05-20                2018-05-21      D   \n",
       "1          CHWFD           1      2018-09-23                2018-09-23      C   \n",
       "2          DYDMF           2      2018-11-10                2018-11-13      C   \n",
       "3          EZYSA           3      2018-04-12                2018-04-16      B   \n",
       "4          HWAKX           3      2018-08-05                2018-08-06      B   \n",
       "\n",
       "   Slot of Booking (Hour of the Day)  Year Month Day  \n",
       "0                                 14  2018    05  20  \n",
       "1                                  8  2018    09  23  \n",
       "2                                 11  2018    11  10  \n",
       "3                                  8  2018    04  12  \n",
       "4                                 11  2018    08  05  "
      ]
     },
     "execution_count": 11,
     "metadata": {},
     "output_type": "execute_result"
    }
   ],
   "source": [
    "df.head()"
   ]
  },
  {
   "cell_type": "code",
   "execution_count": 12,
   "id": "6c3a85ee",
   "metadata": {},
   "outputs": [],
   "source": [
    "df['MYdata']=df['Month']+\"/\"+df['Year']"
   ]
  },
  {
   "cell_type": "code",
   "execution_count": 13,
   "id": "9db62db3",
   "metadata": {},
   "outputs": [],
   "source": [
    "bar_data=df.groupby(['MYdata'])['Profile ID'].count()"
   ]
  },
  {
   "cell_type": "code",
   "execution_count": 14,
   "id": "7c47afba",
   "metadata": {},
   "outputs": [],
   "source": [
    "y=np.array(bar_data)"
   ]
  },
  {
   "cell_type": "code",
   "execution_count": 15,
   "id": "5d83603b",
   "metadata": {},
   "outputs": [],
   "source": [
    "x=sorted(pd.unique(df['MYdata']))"
   ]
  },
  {
   "cell_type": "code",
   "execution_count": 16,
   "id": "36f79963",
   "metadata": {
    "scrolled": true
   },
   "outputs": [
    {
     "data": {
      "image/png": "[encoded data removed]",
      "text/plain": [
       "<Figure size 1080x360 with 1 Axes>"
      ]
     },
     "metadata": {
      "needs_background": "light"
     },
     "output_type": "display_data"
    }
   ],
   "source": [
    "fig, ax = plt.subplots(figsize = (15, 5))\n",
    "plt.bar(x,y)\n",
    "ax.set_xlabel('Months')\n",
    "plt.ylabel('Profile IDs')\n",
    "plt.grid()\n",
    "plt.title('Monthlywise new users who Aquired Service')\n",
    "for i in range(len(x)):\n",
    "    plt.text(i,y[i],y[i],ha='center',va='bottom')\n",
    "plt.ylim([0,3500])\n",
    "plt.show()"
   ]
  },
  {
   "cell_type": "markdown",
   "id": "0fc1e281",
   "metadata": {},
   "source": [
    "### 2.30-Day repeat rate is defined as percentage of new users who have placed a 2nd order within 30 days of placing their first order. What is the 30-day repeat rate of users acquired in December 2017?\n"
   ]
  },
  {
   "cell_type": "code",
   "execution_count": 17,
   "id": "51f6a7e5",
   "metadata": {},
   "outputs": [
    {
     "data": {
      "text/html": [
       "<div>\n",
       "<style scoped>\n",
       "    .dataframe tbody tr th:only-of-type {\n",
       "        vertical-align: middle;\n",
       "    }\n",
       "\n",
       "    .dataframe tbody tr th {\n",
       "        vertical-align: top;\n",
       "    }\n",
       "\n",
       "    .dataframe thead th {\n",
       "        text-align: right;\n",
       "    }\n",
       "</style>\n",
       "<table border=\"1\" class=\"dataframe\">\n",
       "  <thead>\n",
       "    <tr style=\"text-align: right;\">\n",
       "      <th></th>\n",
       "      <th>Transaction_ID</th>\n",
       "      <th>Profile ID</th>\n",
       "      <th>Date_of_Booking</th>\n",
       "      <th>Date_of_Service_Requested</th>\n",
       "      <th>Source</th>\n",
       "      <th>Slot of Booking (Hour of the Day)</th>\n",
       "      <th>Year</th>\n",
       "      <th>Month</th>\n",
       "      <th>Day</th>\n",
       "      <th>MYdata</th>\n",
       "    </tr>\n",
       "  </thead>\n",
       "  <tbody>\n",
       "    <tr>\n",
       "      <th>0</th>\n",
       "      <td>BBCHH</td>\n",
       "      <td>1</td>\n",
       "      <td>2018-05-20</td>\n",
       "      <td>2018-05-21</td>\n",
       "      <td>D</td>\n",
       "      <td>14</td>\n",
       "      <td>2018</td>\n",
       "      <td>05</td>\n",
       "      <td>20</td>\n",
       "      <td>05/2018</td>\n",
       "    </tr>\n",
       "    <tr>\n",
       "      <th>1</th>\n",
       "      <td>CHWFD</td>\n",
       "      <td>1</td>\n",
       "      <td>2018-09-23</td>\n",
       "      <td>2018-09-23</td>\n",
       "      <td>C</td>\n",
       "      <td>8</td>\n",
       "      <td>2018</td>\n",
       "      <td>09</td>\n",
       "      <td>23</td>\n",
       "      <td>09/2018</td>\n",
       "    </tr>\n",
       "    <tr>\n",
       "      <th>2</th>\n",
       "      <td>DYDMF</td>\n",
       "      <td>2</td>\n",
       "      <td>2018-11-10</td>\n",
       "      <td>2018-11-13</td>\n",
       "      <td>C</td>\n",
       "      <td>11</td>\n",
       "      <td>2018</td>\n",
       "      <td>11</td>\n",
       "      <td>10</td>\n",
       "      <td>11/2018</td>\n",
       "    </tr>\n",
       "    <tr>\n",
       "      <th>3</th>\n",
       "      <td>EZYSA</td>\n",
       "      <td>3</td>\n",
       "      <td>2018-04-12</td>\n",
       "      <td>2018-04-16</td>\n",
       "      <td>B</td>\n",
       "      <td>8</td>\n",
       "      <td>2018</td>\n",
       "      <td>04</td>\n",
       "      <td>12</td>\n",
       "      <td>04/2018</td>\n",
       "    </tr>\n",
       "    <tr>\n",
       "      <th>4</th>\n",
       "      <td>HWAKX</td>\n",
       "      <td>3</td>\n",
       "      <td>2018-08-05</td>\n",
       "      <td>2018-08-06</td>\n",
       "      <td>B</td>\n",
       "      <td>11</td>\n",
       "      <td>2018</td>\n",
       "      <td>08</td>\n",
       "      <td>05</td>\n",
       "      <td>08/2018</td>\n",
       "    </tr>\n",
       "  </tbody>\n",
       "</table>\n",
       "</div>"
      ],
      "text/plain": [
       "  Transaction_ID  Profile ID Date_of_Booking Date_of_Service_Requested Source  \\\n",
       "0          BBCHH           1      2018-05-20                2018-05-21      D   \n",
       "1          CHWFD           1      2018-09-23                2018-09-23      C   \n",
       "2          DYDMF           2      2018-11-10                2018-11-13      C   \n",
       "3          EZYSA           3      2018-04-12                2018-04-16      B   \n",
       "4          HWAKX           3      2018-08-05                2018-08-06      B   \n",
       "\n",
       "   Slot of Booking (Hour of the Day)  Year Month Day   MYdata  \n",
       "0                                 14  2018    05  20  05/2018  \n",
       "1                                  8  2018    09  23  09/2018  \n",
       "2                                 11  2018    11  10  11/2018  \n",
       "3                                  8  2018    04  12  04/2018  \n",
       "4                                 11  2018    08  05  08/2018  "
      ]
     },
     "execution_count": 17,
     "metadata": {},
     "output_type": "execute_result"
    }
   ],
   "source": [
    "df.head()"
   ]
  },
  {
   "cell_type": "code",
   "execution_count": 18,
   "id": "efcc665b",
   "metadata": {},
   "outputs": [
    {
     "data": {
      "text/plain": [
       "(30940, 10)"
      ]
     },
     "execution_count": 18,
     "metadata": {},
     "output_type": "execute_result"
    }
   ],
   "source": [
    "df.shape"
   ]
  },
  {
   "cell_type": "code",
   "execution_count": 19,
   "id": "899cd047",
   "metadata": {},
   "outputs": [
    {
     "data": {
      "text/plain": [
       "MYdata\n",
       "01/2018    2675\n",
       "02/2018    2403\n",
       "03/2018    2600\n",
       "04/2018    2483\n",
       "05/2018    2510\n",
       "06/2018    2571\n",
       "07/2018    2616\n",
       "08/2018    2556\n",
       "09/2018    2508\n",
       "10/2018    2680\n",
       "11/2018    2577\n",
       "12/2017    2761\n",
       "Name: Profile ID, dtype: int64"
      ]
     },
     "execution_count": 19,
     "metadata": {},
     "output_type": "execute_result"
    }
   ],
   "source": [
    "new=df.groupby('MYdata')['Profile ID'].count()\n",
    "new"
   ]
  },
  {
   "cell_type": "markdown",
   "id": "d14fcc6a",
   "metadata": {},
   "source": [
    "#### Calculate by percentage"
   ]
  },
  {
   "cell_type": "code",
   "execution_count": 20,
   "id": "25d52423",
   "metadata": {},
   "outputs": [
    {
     "data": {
      "text/plain": [
       "8.923723335488042"
      ]
     },
     "execution_count": 20,
     "metadata": {},
     "output_type": "execute_result"
    }
   ],
   "source": [
    "rate=(new[-1]/df['MYdata'].count())*100\n",
    "rate"
   ]
  },
  {
   "cell_type": "markdown",
   "id": "91b7f6f3",
   "metadata": {},
   "source": [
    "### Result: 30 days for Dec 2017 rate is 8.92% "
   ]
  },
  {
   "cell_type": "markdown",
   "id": "89bed1d7",
   "metadata": {},
   "source": [
    "### 3.    What is the 90-day repeat rate of users acquired in Jan,Feb,March 2018?\n"
   ]
  },
  {
   "cell_type": "code",
   "execution_count": 21,
   "id": "0276ee26",
   "metadata": {},
   "outputs": [
    {
     "data": {
      "text/plain": [
       "MYdata\n",
       "01/2018    2675\n",
       "02/2018    2403\n",
       "03/2018    2600\n",
       "04/2018    2483\n",
       "05/2018    2510\n",
       "06/2018    2571\n",
       "07/2018    2616\n",
       "08/2018    2556\n",
       "09/2018    2508\n",
       "10/2018    2680\n",
       "11/2018    2577\n",
       "12/2017    2761\n",
       "Name: Profile ID, dtype: int64"
      ]
     },
     "execution_count": 21,
     "metadata": {},
     "output_type": "execute_result"
    }
   ],
   "source": [
    "new=df.groupby('MYdata')['Profile ID'].count()\n",
    "new"
   ]
  },
  {
   "cell_type": "code",
   "execution_count": 22,
   "id": "7da2b80a",
   "metadata": {},
   "outputs": [
    {
     "data": {
      "text/plain": [
       "MYdata\n",
       "01/2018    2675\n",
       "02/2018    2403\n",
       "03/2018    2600\n",
       "Name: Profile ID, dtype: int64"
      ]
     },
     "execution_count": 22,
     "metadata": {},
     "output_type": "execute_result"
    }
   ],
   "source": [
    "new[:3]"
   ]
  },
  {
   "cell_type": "code",
   "execution_count": 23,
   "id": "e6073d68",
   "metadata": {},
   "outputs": [
    {
     "data": {
      "text/plain": [
       "7678"
      ]
     },
     "execution_count": 23,
     "metadata": {},
     "output_type": "execute_result"
    }
   ],
   "source": [
    "sum(new[:3])"
   ]
  },
  {
   "cell_type": "code",
   "execution_count": 24,
   "id": "a9f57b74",
   "metadata": {},
   "outputs": [
    {
     "data": {
      "text/plain": [
       "24.815772462831287"
      ]
     },
     "execution_count": 24,
     "metadata": {},
     "output_type": "execute_result"
    }
   ],
   "source": [
    "rate1=(sum(new[:3])/df['MYdata'].count())*100\n",
    "rate1"
   ]
  },
  {
   "cell_type": "markdown",
   "id": "4f5268c6",
   "metadata": {},
   "source": [
    "###                        Result: 90 days rate for jan,feb,march is 24.81%"
   ]
  },
  {
   "cell_type": "markdown",
   "id": "8c456ef0",
   "metadata": {},
   "source": [
    "### 4.    Use any classification model to predict the 90-day repeat of users acquired in November 2018. Hint: Use Source, Slot of Booking, Gap between date of Booking and date of service requested as predictor variables\n"
   ]
  },
  {
   "cell_type": "code",
   "execution_count": 25,
   "id": "1abf7187",
   "metadata": {},
   "outputs": [
    {
     "data": {
      "text/html": [
       "<div>\n",
       "<style scoped>\n",
       "    .dataframe tbody tr th:only-of-type {\n",
       "        vertical-align: middle;\n",
       "    }\n",
       "\n",
       "    .dataframe tbody tr th {\n",
       "        vertical-align: top;\n",
       "    }\n",
       "\n",
       "    .dataframe thead th {\n",
       "        text-align: right;\n",
       "    }\n",
       "</style>\n",
       "<table border=\"1\" class=\"dataframe\">\n",
       "  <thead>\n",
       "    <tr style=\"text-align: right;\">\n",
       "      <th></th>\n",
       "      <th>Transaction_ID</th>\n",
       "      <th>Profile ID</th>\n",
       "      <th>Date_of_Booking</th>\n",
       "      <th>Date_of_Service_Requested</th>\n",
       "      <th>Source</th>\n",
       "      <th>Slot of Booking (Hour of the Day)</th>\n",
       "      <th>Year</th>\n",
       "      <th>Month</th>\n",
       "      <th>Day</th>\n",
       "      <th>MYdata</th>\n",
       "    </tr>\n",
       "  </thead>\n",
       "  <tbody>\n",
       "    <tr>\n",
       "      <th>0</th>\n",
       "      <td>BBCHH</td>\n",
       "      <td>1</td>\n",
       "      <td>2018-05-20</td>\n",
       "      <td>2018-05-21</td>\n",
       "      <td>D</td>\n",
       "      <td>14</td>\n",
       "      <td>2018</td>\n",
       "      <td>05</td>\n",
       "      <td>20</td>\n",
       "      <td>05/2018</td>\n",
       "    </tr>\n",
       "    <tr>\n",
       "      <th>1</th>\n",
       "      <td>CHWFD</td>\n",
       "      <td>1</td>\n",
       "      <td>2018-09-23</td>\n",
       "      <td>2018-09-23</td>\n",
       "      <td>C</td>\n",
       "      <td>8</td>\n",
       "      <td>2018</td>\n",
       "      <td>09</td>\n",
       "      <td>23</td>\n",
       "      <td>09/2018</td>\n",
       "    </tr>\n",
       "    <tr>\n",
       "      <th>2</th>\n",
       "      <td>DYDMF</td>\n",
       "      <td>2</td>\n",
       "      <td>2018-11-10</td>\n",
       "      <td>2018-11-13</td>\n",
       "      <td>C</td>\n",
       "      <td>11</td>\n",
       "      <td>2018</td>\n",
       "      <td>11</td>\n",
       "      <td>10</td>\n",
       "      <td>11/2018</td>\n",
       "    </tr>\n",
       "    <tr>\n",
       "      <th>3</th>\n",
       "      <td>EZYSA</td>\n",
       "      <td>3</td>\n",
       "      <td>2018-04-12</td>\n",
       "      <td>2018-04-16</td>\n",
       "      <td>B</td>\n",
       "      <td>8</td>\n",
       "      <td>2018</td>\n",
       "      <td>04</td>\n",
       "      <td>12</td>\n",
       "      <td>04/2018</td>\n",
       "    </tr>\n",
       "    <tr>\n",
       "      <th>4</th>\n",
       "      <td>HWAKX</td>\n",
       "      <td>3</td>\n",
       "      <td>2018-08-05</td>\n",
       "      <td>2018-08-06</td>\n",
       "      <td>B</td>\n",
       "      <td>11</td>\n",
       "      <td>2018</td>\n",
       "      <td>08</td>\n",
       "      <td>05</td>\n",
       "      <td>08/2018</td>\n",
       "    </tr>\n",
       "  </tbody>\n",
       "</table>\n",
       "</div>"
      ],
      "text/plain": [
       "  Transaction_ID  Profile ID Date_of_Booking Date_of_Service_Requested Source  \\\n",
       "0          BBCHH           1      2018-05-20                2018-05-21      D   \n",
       "1          CHWFD           1      2018-09-23                2018-09-23      C   \n",
       "2          DYDMF           2      2018-11-10                2018-11-13      C   \n",
       "3          EZYSA           3      2018-04-12                2018-04-16      B   \n",
       "4          HWAKX           3      2018-08-05                2018-08-06      B   \n",
       "\n",
       "   Slot of Booking (Hour of the Day)  Year Month Day   MYdata  \n",
       "0                                 14  2018    05  20  05/2018  \n",
       "1                                  8  2018    09  23  09/2018  \n",
       "2                                 11  2018    11  10  11/2018  \n",
       "3                                  8  2018    04  12  04/2018  \n",
       "4                                 11  2018    08  05  08/2018  "
      ]
     },
     "execution_count": 25,
     "metadata": {},
     "output_type": "execute_result"
    }
   ],
   "source": [
    "df.head()"
   ]
  },
  {
   "cell_type": "code",
   "execution_count": 26,
   "id": "ccc66d7e",
   "metadata": {},
   "outputs": [
    {
     "data": {
      "text/plain": [
       "Transaction_ID                       0\n",
       "Profile ID                           0\n",
       "Date_of_Booking                      0\n",
       "Date_of_Service_Requested            0\n",
       "Source                               0\n",
       "Slot of Booking (Hour of the Day)    0\n",
       "Year                                 0\n",
       "Month                                0\n",
       "Day                                  0\n",
       "MYdata                               0\n",
       "dtype: int64"
      ]
     },
     "execution_count": 26,
     "metadata": {},
     "output_type": "execute_result"
    }
   ],
   "source": [
    "df.isnull().sum()"
   ]
  },
  {
   "cell_type": "code",
   "execution_count": 27,
   "id": "dc00dd4d",
   "metadata": {},
   "outputs": [
    {
     "data": {
      "text/plain": [
       "Transaction_ID                       object\n",
       "Profile ID                            int64\n",
       "Date_of_Booking                      object\n",
       "Date_of_Service_Requested            object\n",
       "Source                               object\n",
       "Slot of Booking (Hour of the Day)     int64\n",
       "Year                                 object\n",
       "Month                                object\n",
       "Day                                  object\n",
       "MYdata                               object\n",
       "dtype: object"
      ]
     },
     "execution_count": 27,
     "metadata": {},
     "output_type": "execute_result"
    }
   ],
   "source": [
    "df.dtypes"
   ]
  },
  {
   "cell_type": "code",
   "execution_count": 28,
   "id": "c7601c1d",
   "metadata": {},
   "outputs": [],
   "source": [
    "df['Date_of_Booking']=pd.to_datetime(df['Date_of_Booking'])\n",
    "df['Date_of_Service_Requested']=pd.to_datetime(df['Date_of_Service_Requested'])"
   ]
  },
  {
   "cell_type": "code",
   "execution_count": 29,
   "id": "5241bf68",
   "metadata": {},
   "outputs": [],
   "source": [
    "df['duration']=df['Date_of_Service_Requested']-df['Date_of_Booking']"
   ]
  },
  {
   "cell_type": "code",
   "execution_count": 30,
   "id": "8775e7d8",
   "metadata": {},
   "outputs": [
    {
     "data": {
      "text/html": [
       "<div>\n",
       "<style scoped>\n",
       "    .dataframe tbody tr th:only-of-type {\n",
       "        vertical-align: middle;\n",
       "    }\n",
       "\n",
       "    .dataframe tbody tr th {\n",
       "        vertical-align: top;\n",
       "    }\n",
       "\n",
       "    .dataframe thead th {\n",
       "        text-align: right;\n",
       "    }\n",
       "</style>\n",
       "<table border=\"1\" class=\"dataframe\">\n",
       "  <thead>\n",
       "    <tr style=\"text-align: right;\">\n",
       "      <th></th>\n",
       "      <th>Source</th>\n",
       "      <th>Date_of_Booking</th>\n",
       "      <th>duration</th>\n",
       "    </tr>\n",
       "  </thead>\n",
       "  <tbody>\n",
       "    <tr>\n",
       "      <th>0</th>\n",
       "      <td>D</td>\n",
       "      <td>2018-05-20</td>\n",
       "      <td>1 days</td>\n",
       "    </tr>\n",
       "    <tr>\n",
       "      <th>1</th>\n",
       "      <td>C</td>\n",
       "      <td>2018-09-23</td>\n",
       "      <td>0 days</td>\n",
       "    </tr>\n",
       "    <tr>\n",
       "      <th>2</th>\n",
       "      <td>C</td>\n",
       "      <td>2018-11-10</td>\n",
       "      <td>3 days</td>\n",
       "    </tr>\n",
       "    <tr>\n",
       "      <th>3</th>\n",
       "      <td>B</td>\n",
       "      <td>2018-04-12</td>\n",
       "      <td>4 days</td>\n",
       "    </tr>\n",
       "    <tr>\n",
       "      <th>4</th>\n",
       "      <td>B</td>\n",
       "      <td>2018-08-05</td>\n",
       "      <td>1 days</td>\n",
       "    </tr>\n",
       "    <tr>\n",
       "      <th>...</th>\n",
       "      <td>...</td>\n",
       "      <td>...</td>\n",
       "      <td>...</td>\n",
       "    </tr>\n",
       "    <tr>\n",
       "      <th>30935</th>\n",
       "      <td>C</td>\n",
       "      <td>2018-09-29</td>\n",
       "      <td>3 days</td>\n",
       "    </tr>\n",
       "    <tr>\n",
       "      <th>30936</th>\n",
       "      <td>A</td>\n",
       "      <td>2018-03-12</td>\n",
       "      <td>4 days</td>\n",
       "    </tr>\n",
       "    <tr>\n",
       "      <th>30937</th>\n",
       "      <td>C</td>\n",
       "      <td>2018-01-05</td>\n",
       "      <td>5 days</td>\n",
       "    </tr>\n",
       "    <tr>\n",
       "      <th>30938</th>\n",
       "      <td>C</td>\n",
       "      <td>2018-02-26</td>\n",
       "      <td>5 days</td>\n",
       "    </tr>\n",
       "    <tr>\n",
       "      <th>30939</th>\n",
       "      <td>B</td>\n",
       "      <td>2018-04-30</td>\n",
       "      <td>3 days</td>\n",
       "    </tr>\n",
       "  </tbody>\n",
       "</table>\n",
       "<p>30940 rows × 3 columns</p>\n",
       "</div>"
      ],
      "text/plain": [
       "      Source Date_of_Booking duration\n",
       "0          D      2018-05-20   1 days\n",
       "1          C      2018-09-23   0 days\n",
       "2          C      2018-11-10   3 days\n",
       "3          B      2018-04-12   4 days\n",
       "4          B      2018-08-05   1 days\n",
       "...      ...             ...      ...\n",
       "30935      C      2018-09-29   3 days\n",
       "30936      A      2018-03-12   4 days\n",
       "30937      C      2018-01-05   5 days\n",
       "30938      C      2018-02-26   5 days\n",
       "30939      B      2018-04-30   3 days\n",
       "\n",
       "[30940 rows x 3 columns]"
      ]
     },
     "execution_count": 30,
     "metadata": {},
     "output_type": "execute_result"
    }
   ],
   "source": [
    "x=df[['Source','Date_of_Booking','duration']]\n",
    "x"
   ]
  },
  {
   "cell_type": "code",
   "execution_count": 31,
   "id": "92b5266f",
   "metadata": {},
   "outputs": [
    {
     "data": {
      "text/html": [
       "<div>\n",
       "<style scoped>\n",
       "    .dataframe tbody tr th:only-of-type {\n",
       "        vertical-align: middle;\n",
       "    }\n",
       "\n",
       "    .dataframe tbody tr th {\n",
       "        vertical-align: top;\n",
       "    }\n",
       "\n",
       "    .dataframe thead th {\n",
       "        text-align: right;\n",
       "    }\n",
       "</style>\n",
       "<table border=\"1\" class=\"dataframe\">\n",
       "  <thead>\n",
       "    <tr style=\"text-align: right;\">\n",
       "      <th></th>\n",
       "      <th>Date_of_Booking</th>\n",
       "      <th>duration</th>\n",
       "      <th>Source_B</th>\n",
       "      <th>Source_C</th>\n",
       "      <th>Source_D</th>\n",
       "    </tr>\n",
       "  </thead>\n",
       "  <tbody>\n",
       "    <tr>\n",
       "      <th>0</th>\n",
       "      <td>2018-05-20</td>\n",
       "      <td>1 days</td>\n",
       "      <td>0</td>\n",
       "      <td>0</td>\n",
       "      <td>1</td>\n",
       "    </tr>\n",
       "    <tr>\n",
       "      <th>1</th>\n",
       "      <td>2018-09-23</td>\n",
       "      <td>0 days</td>\n",
       "      <td>0</td>\n",
       "      <td>1</td>\n",
       "      <td>0</td>\n",
       "    </tr>\n",
       "    <tr>\n",
       "      <th>2</th>\n",
       "      <td>2018-11-10</td>\n",
       "      <td>3 days</td>\n",
       "      <td>0</td>\n",
       "      <td>1</td>\n",
       "      <td>0</td>\n",
       "    </tr>\n",
       "    <tr>\n",
       "      <th>3</th>\n",
       "      <td>2018-04-12</td>\n",
       "      <td>4 days</td>\n",
       "      <td>1</td>\n",
       "      <td>0</td>\n",
       "      <td>0</td>\n",
       "    </tr>\n",
       "    <tr>\n",
       "      <th>4</th>\n",
       "      <td>2018-08-05</td>\n",
       "      <td>1 days</td>\n",
       "      <td>1</td>\n",
       "      <td>0</td>\n",
       "      <td>0</td>\n",
       "    </tr>\n",
       "    <tr>\n",
       "      <th>...</th>\n",
       "      <td>...</td>\n",
       "      <td>...</td>\n",
       "      <td>...</td>\n",
       "      <td>...</td>\n",
       "      <td>...</td>\n",
       "    </tr>\n",
       "    <tr>\n",
       "      <th>30935</th>\n",
       "      <td>2018-09-29</td>\n",
       "      <td>3 days</td>\n",
       "      <td>0</td>\n",
       "      <td>1</td>\n",
       "      <td>0</td>\n",
       "    </tr>\n",
       "    <tr>\n",
       "      <th>30936</th>\n",
       "      <td>2018-03-12</td>\n",
       "      <td>4 days</td>\n",
       "      <td>0</td>\n",
       "      <td>0</td>\n",
       "      <td>0</td>\n",
       "    </tr>\n",
       "    <tr>\n",
       "      <th>30937</th>\n",
       "      <td>2018-01-05</td>\n",
       "      <td>5 days</td>\n",
       "      <td>0</td>\n",
       "      <td>1</td>\n",
       "      <td>0</td>\n",
       "    </tr>\n",
       "    <tr>\n",
       "      <th>30938</th>\n",
       "      <td>2018-02-26</td>\n",
       "      <td>5 days</td>\n",
       "      <td>0</td>\n",
       "      <td>1</td>\n",
       "      <td>0</td>\n",
       "    </tr>\n",
       "    <tr>\n",
       "      <th>30939</th>\n",
       "      <td>2018-04-30</td>\n",
       "      <td>3 days</td>\n",
       "      <td>1</td>\n",
       "      <td>0</td>\n",
       "      <td>0</td>\n",
       "    </tr>\n",
       "  </tbody>\n",
       "</table>\n",
       "<p>30940 rows × 5 columns</p>\n",
       "</div>"
      ],
      "text/plain": [
       "      Date_of_Booking duration  Source_B  Source_C  Source_D\n",
       "0          2018-05-20   1 days         0         0         1\n",
       "1          2018-09-23   0 days         0         1         0\n",
       "2          2018-11-10   3 days         0         1         0\n",
       "3          2018-04-12   4 days         1         0         0\n",
       "4          2018-08-05   1 days         1         0         0\n",
       "...               ...      ...       ...       ...       ...\n",
       "30935      2018-09-29   3 days         0         1         0\n",
       "30936      2018-03-12   4 days         0         0         0\n",
       "30937      2018-01-05   5 days         0         1         0\n",
       "30938      2018-02-26   5 days         0         1         0\n",
       "30939      2018-04-30   3 days         1         0         0\n",
       "\n",
       "[30940 rows x 5 columns]"
      ]
     },
     "execution_count": 31,
     "metadata": {},
     "output_type": "execute_result"
    }
   ],
   "source": [
    "x=pd.get_dummies(x,drop_first=True)\n",
    "x"
   ]
  },
  {
   "cell_type": "code",
   "execution_count": 32,
   "id": "3625cbf9",
   "metadata": {},
   "outputs": [
    {
     "data": {
      "text/plain": [
       "Date_of_Booking     datetime64[ns]\n",
       "duration           timedelta64[ns]\n",
       "Source_B                     uint8\n",
       "Source_C                     uint8\n",
       "Source_D                     uint8\n",
       "dtype: object"
      ]
     },
     "execution_count": 32,
     "metadata": {},
     "output_type": "execute_result"
    }
   ],
   "source": [
    "x.dtypes"
   ]
  },
  {
   "cell_type": "code",
   "execution_count": 33,
   "id": "e514e133",
   "metadata": {},
   "outputs": [],
   "source": [
    "x[['Date_of_Booking','duration']]=x[['Date_of_Booking','duration']].astype('str')"
   ]
  },
  {
   "cell_type": "code",
   "execution_count": 34,
   "id": "998bd98f",
   "metadata": {},
   "outputs": [],
   "source": [
    "from sklearn.preprocessing import LabelEncoder"
   ]
  },
  {
   "cell_type": "code",
   "execution_count": 35,
   "id": "7d9ae69a",
   "metadata": {},
   "outputs": [],
   "source": [
    "le=LabelEncoder()"
   ]
  },
  {
   "cell_type": "code",
   "execution_count": 36,
   "id": "8b49ba02",
   "metadata": {},
   "outputs": [
    {
     "data": {
      "text/plain": [
       "array([170, 296, 344, ...,  35,  87, 150])"
      ]
     },
     "execution_count": 36,
     "metadata": {},
     "output_type": "execute_result"
    }
   ],
   "source": [
    "encode_booking=le.fit_transform(x['Date_of_Booking'])\n",
    "encode_booking"
   ]
  },
  {
   "cell_type": "code",
   "execution_count": 37,
   "id": "e47680b9",
   "metadata": {},
   "outputs": [
    {
     "data": {
      "text/plain": [
       "array([1, 0, 3, ..., 5, 5, 3])"
      ]
     },
     "execution_count": 37,
     "metadata": {},
     "output_type": "execute_result"
    }
   ],
   "source": [
    "encode_duration=le.fit_transform(x['duration'])\n",
    "encode_duration"
   ]
  },
  {
   "cell_type": "code",
   "execution_count": 38,
   "id": "7563ef5b",
   "metadata": {},
   "outputs": [],
   "source": [
    "x=x.iloc[:,2:]"
   ]
  },
  {
   "cell_type": "code",
   "execution_count": 39,
   "id": "26da1f83",
   "metadata": {},
   "outputs": [
    {
     "data": {
      "text/html": [
       "<div>\n",
       "<style scoped>\n",
       "    .dataframe tbody tr th:only-of-type {\n",
       "        vertical-align: middle;\n",
       "    }\n",
       "\n",
       "    .dataframe tbody tr th {\n",
       "        vertical-align: top;\n",
       "    }\n",
       "\n",
       "    .dataframe thead th {\n",
       "        text-align: right;\n",
       "    }\n",
       "</style>\n",
       "<table border=\"1\" class=\"dataframe\">\n",
       "  <thead>\n",
       "    <tr style=\"text-align: right;\">\n",
       "      <th></th>\n",
       "      <th>Source_B</th>\n",
       "      <th>Source_C</th>\n",
       "      <th>Source_D</th>\n",
       "      <th>dateofbook</th>\n",
       "      <th>duration</th>\n",
       "    </tr>\n",
       "  </thead>\n",
       "  <tbody>\n",
       "    <tr>\n",
       "      <th>0</th>\n",
       "      <td>0</td>\n",
       "      <td>0</td>\n",
       "      <td>1</td>\n",
       "      <td>170</td>\n",
       "      <td>1</td>\n",
       "    </tr>\n",
       "    <tr>\n",
       "      <th>1</th>\n",
       "      <td>0</td>\n",
       "      <td>1</td>\n",
       "      <td>0</td>\n",
       "      <td>296</td>\n",
       "      <td>0</td>\n",
       "    </tr>\n",
       "    <tr>\n",
       "      <th>2</th>\n",
       "      <td>0</td>\n",
       "      <td>1</td>\n",
       "      <td>0</td>\n",
       "      <td>344</td>\n",
       "      <td>3</td>\n",
       "    </tr>\n",
       "    <tr>\n",
       "      <th>3</th>\n",
       "      <td>1</td>\n",
       "      <td>0</td>\n",
       "      <td>0</td>\n",
       "      <td>132</td>\n",
       "      <td>4</td>\n",
       "    </tr>\n",
       "    <tr>\n",
       "      <th>4</th>\n",
       "      <td>1</td>\n",
       "      <td>0</td>\n",
       "      <td>0</td>\n",
       "      <td>247</td>\n",
       "      <td>1</td>\n",
       "    </tr>\n",
       "    <tr>\n",
       "      <th>...</th>\n",
       "      <td>...</td>\n",
       "      <td>...</td>\n",
       "      <td>...</td>\n",
       "      <td>...</td>\n",
       "      <td>...</td>\n",
       "    </tr>\n",
       "    <tr>\n",
       "      <th>30935</th>\n",
       "      <td>0</td>\n",
       "      <td>1</td>\n",
       "      <td>0</td>\n",
       "      <td>302</td>\n",
       "      <td>3</td>\n",
       "    </tr>\n",
       "    <tr>\n",
       "      <th>30936</th>\n",
       "      <td>0</td>\n",
       "      <td>0</td>\n",
       "      <td>0</td>\n",
       "      <td>101</td>\n",
       "      <td>4</td>\n",
       "    </tr>\n",
       "    <tr>\n",
       "      <th>30937</th>\n",
       "      <td>0</td>\n",
       "      <td>1</td>\n",
       "      <td>0</td>\n",
       "      <td>35</td>\n",
       "      <td>5</td>\n",
       "    </tr>\n",
       "    <tr>\n",
       "      <th>30938</th>\n",
       "      <td>0</td>\n",
       "      <td>1</td>\n",
       "      <td>0</td>\n",
       "      <td>87</td>\n",
       "      <td>5</td>\n",
       "    </tr>\n",
       "    <tr>\n",
       "      <th>30939</th>\n",
       "      <td>1</td>\n",
       "      <td>0</td>\n",
       "      <td>0</td>\n",
       "      <td>150</td>\n",
       "      <td>3</td>\n",
       "    </tr>\n",
       "  </tbody>\n",
       "</table>\n",
       "<p>30940 rows × 5 columns</p>\n",
       "</div>"
      ],
      "text/plain": [
       "       Source_B  Source_C  Source_D  dateofbook  duration\n",
       "0             0         0         1         170         1\n",
       "1             0         1         0         296         0\n",
       "2             0         1         0         344         3\n",
       "3             1         0         0         132         4\n",
       "4             1         0         0         247         1\n",
       "...         ...       ...       ...         ...       ...\n",
       "30935         0         1         0         302         3\n",
       "30936         0         0         0         101         4\n",
       "30937         0         1         0          35         5\n",
       "30938         0         1         0          87         5\n",
       "30939         1         0         0         150         3\n",
       "\n",
       "[30940 rows x 5 columns]"
      ]
     },
     "execution_count": 39,
     "metadata": {},
     "output_type": "execute_result"
    }
   ],
   "source": [
    "x['dateofbook']=encode_booking\n",
    "x['duration']=encode_duration\n",
    "x"
   ]
  },
  {
   "cell_type": "code",
   "execution_count": 40,
   "id": "dde22037",
   "metadata": {},
   "outputs": [],
   "source": [
    "y=df['Profile ID']"
   ]
  },
  {
   "cell_type": "code",
   "execution_count": 41,
   "id": "02c3f3c4",
   "metadata": {},
   "outputs": [
    {
     "name": "stdout",
     "output_type": "stream",
     "text": [
      "(30940, 5)\n",
      "(30940,)\n"
     ]
    }
   ],
   "source": [
    "print(x.shape)\n",
    "print(y.shape)"
   ]
  },
  {
   "cell_type": "code",
   "execution_count": 42,
   "id": "f29f99de",
   "metadata": {},
   "outputs": [],
   "source": [
    "from sklearn.preprocessing import StandardScaler"
   ]
  },
  {
   "cell_type": "code",
   "execution_count": 43,
   "id": "6f3f57e5",
   "metadata": {},
   "outputs": [],
   "source": [
    "sc=StandardScaler()"
   ]
  },
  {
   "cell_type": "code",
   "execution_count": 44,
   "id": "7c71a446",
   "metadata": {},
   "outputs": [],
   "source": [
    "x_data=sc.fit_transform(x)"
   ]
  },
  {
   "cell_type": "code",
   "execution_count": 45,
   "id": "5410fc24",
   "metadata": {},
   "outputs": [],
   "source": [
    "from sklearn.model_selection import train_test_split"
   ]
  },
  {
   "cell_type": "code",
   "execution_count": 46,
   "id": "f5ebefe3",
   "metadata": {},
   "outputs": [],
   "source": [
    "X_train,X_test,y_train,y_test=train_test_split(x_data,y,test_size=0.2,random_state=10)"
   ]
  },
  {
   "cell_type": "code",
   "execution_count": 47,
   "id": "2a7ce6e3",
   "metadata": {},
   "outputs": [],
   "source": [
    "from sklearn.linear_model import LinearRegression"
   ]
  },
  {
   "cell_type": "code",
   "execution_count": 48,
   "id": "ddfc4b30",
   "metadata": {},
   "outputs": [],
   "source": [
    "li=LinearRegression()"
   ]
  },
  {
   "cell_type": "code",
   "execution_count": 49,
   "id": "2de41613",
   "metadata": {},
   "outputs": [
    {
     "data": {
      "text/plain": [
       "LinearRegression()"
      ]
     },
     "execution_count": 49,
     "metadata": {},
     "output_type": "execute_result"
    }
   ],
   "source": [
    "li.fit(X_train,y_train)"
   ]
  },
  {
   "cell_type": "code",
   "execution_count": 50,
   "id": "86a46f44",
   "metadata": {},
   "outputs": [],
   "source": [
    "y_pred=li.predict(X_test)"
   ]
  },
  {
   "cell_type": "code",
   "execution_count": 51,
   "id": "2376c060",
   "metadata": {},
   "outputs": [],
   "source": [
    "from sklearn.metrics import r2_score,mean_squared_error"
   ]
  },
  {
   "cell_type": "code",
   "execution_count": 52,
   "id": "ef02c26c",
   "metadata": {},
   "outputs": [
    {
     "data": {
      "text/plain": [
       "-0.00028049258784301756"
      ]
     },
     "execution_count": 52,
     "metadata": {},
     "output_type": "execute_result"
    }
   ],
   "source": [
    "r2_score(y_test,y_pred)"
   ]
  },
  {
   "cell_type": "code",
   "execution_count": 53,
   "id": "411032f0",
   "metadata": {},
   "outputs": [
    {
     "data": {
      "text/plain": [
       "4834.162060197218"
      ]
     },
     "execution_count": 53,
     "metadata": {},
     "output_type": "execute_result"
    }
   ],
   "source": [
    "np.sqrt(mean_squared_error(y_test,y_pred))"
   ]
  },
  {
   "cell_type": "markdown",
   "id": "27cadd0c",
   "metadata": {},
   "source": [
    "## Using \"Data of Booking\" as independent variable and repeated \"profile ids\"  are target varible"
   ]
  },
  {
   "cell_type": "code",
   "execution_count": 54,
   "id": "2a05406b",
   "metadata": {},
   "outputs": [
    {
     "data": {
      "text/plain": [
       "MYdata\n",
       "01/2018    2675\n",
       "02/2018    2403\n",
       "03/2018    2600\n",
       "04/2018    2483\n",
       "05/2018    2510\n",
       "06/2018    2571\n",
       "07/2018    2616\n",
       "08/2018    2556\n",
       "09/2018    2508\n",
       "10/2018    2680\n",
       "11/2018    2577\n",
       "12/2017    2761\n",
       "Name: Profile ID, dtype: int64"
      ]
     },
     "execution_count": 54,
     "metadata": {},
     "output_type": "execute_result"
    }
   ],
   "source": [
    "new=df.groupby('MYdata')['Profile ID'].count()\n",
    "new"
   ]
  },
  {
   "cell_type": "code",
   "execution_count": 55,
   "id": "28668068",
   "metadata": {},
   "outputs": [
    {
     "data": {
      "text/plain": [
       "array([2675, 2403, 2600, 2483, 2510, 2571, 2616, 2556, 2508, 2680, 2577,\n",
       "       2761], dtype=int64)"
      ]
     },
     "execution_count": 55,
     "metadata": {},
     "output_type": "execute_result"
    }
   ],
   "source": [
    "y=new.values\n",
    "y"
   ]
  },
  {
   "cell_type": "code",
   "execution_count": 56,
   "id": "248f4ccf",
   "metadata": {},
   "outputs": [
    {
     "data": {
      "text/plain": [
       "['01/2018',\n",
       " '02/2018',\n",
       " '03/2018',\n",
       " '04/2018',\n",
       " '05/2018',\n",
       " '06/2018',\n",
       " '07/2018',\n",
       " '08/2018',\n",
       " '09/2018',\n",
       " '10/2018',\n",
       " '11/2018',\n",
       " '12/2017']"
      ]
     },
     "execution_count": 56,
     "metadata": {},
     "output_type": "execute_result"
    }
   ],
   "source": [
    "x_sort=sorted(pd.unique(df['MYdata']))\n",
    "x_sort"
   ]
  },
  {
   "cell_type": "code",
   "execution_count": 57,
   "id": "bb6d0ae3",
   "metadata": {},
   "outputs": [
    {
     "data": {
      "text/html": [
       "<div>\n",
       "<style scoped>\n",
       "    .dataframe tbody tr th:only-of-type {\n",
       "        vertical-align: middle;\n",
       "    }\n",
       "\n",
       "    .dataframe tbody tr th {\n",
       "        vertical-align: top;\n",
       "    }\n",
       "\n",
       "    .dataframe thead th {\n",
       "        text-align: right;\n",
       "    }\n",
       "</style>\n",
       "<table border=\"1\" class=\"dataframe\">\n",
       "  <thead>\n",
       "    <tr style=\"text-align: right;\">\n",
       "      <th></th>\n",
       "      <th>02/2018</th>\n",
       "      <th>03/2018</th>\n",
       "      <th>04/2018</th>\n",
       "      <th>05/2018</th>\n",
       "      <th>06/2018</th>\n",
       "      <th>07/2018</th>\n",
       "      <th>08/2018</th>\n",
       "      <th>09/2018</th>\n",
       "      <th>10/2018</th>\n",
       "      <th>11/2018</th>\n",
       "      <th>12/2017</th>\n",
       "    </tr>\n",
       "  </thead>\n",
       "  <tbody>\n",
       "    <tr>\n",
       "      <th>0</th>\n",
       "      <td>0</td>\n",
       "      <td>0</td>\n",
       "      <td>0</td>\n",
       "      <td>0</td>\n",
       "      <td>0</td>\n",
       "      <td>0</td>\n",
       "      <td>0</td>\n",
       "      <td>0</td>\n",
       "      <td>0</td>\n",
       "      <td>0</td>\n",
       "      <td>0</td>\n",
       "    </tr>\n",
       "    <tr>\n",
       "      <th>1</th>\n",
       "      <td>1</td>\n",
       "      <td>0</td>\n",
       "      <td>0</td>\n",
       "      <td>0</td>\n",
       "      <td>0</td>\n",
       "      <td>0</td>\n",
       "      <td>0</td>\n",
       "      <td>0</td>\n",
       "      <td>0</td>\n",
       "      <td>0</td>\n",
       "      <td>0</td>\n",
       "    </tr>\n",
       "    <tr>\n",
       "      <th>2</th>\n",
       "      <td>0</td>\n",
       "      <td>1</td>\n",
       "      <td>0</td>\n",
       "      <td>0</td>\n",
       "      <td>0</td>\n",
       "      <td>0</td>\n",
       "      <td>0</td>\n",
       "      <td>0</td>\n",
       "      <td>0</td>\n",
       "      <td>0</td>\n",
       "      <td>0</td>\n",
       "    </tr>\n",
       "    <tr>\n",
       "      <th>3</th>\n",
       "      <td>0</td>\n",
       "      <td>0</td>\n",
       "      <td>1</td>\n",
       "      <td>0</td>\n",
       "      <td>0</td>\n",
       "      <td>0</td>\n",
       "      <td>0</td>\n",
       "      <td>0</td>\n",
       "      <td>0</td>\n",
       "      <td>0</td>\n",
       "      <td>0</td>\n",
       "    </tr>\n",
       "    <tr>\n",
       "      <th>4</th>\n",
       "      <td>0</td>\n",
       "      <td>0</td>\n",
       "      <td>0</td>\n",
       "      <td>1</td>\n",
       "      <td>0</td>\n",
       "      <td>0</td>\n",
       "      <td>0</td>\n",
       "      <td>0</td>\n",
       "      <td>0</td>\n",
       "      <td>0</td>\n",
       "      <td>0</td>\n",
       "    </tr>\n",
       "    <tr>\n",
       "      <th>5</th>\n",
       "      <td>0</td>\n",
       "      <td>0</td>\n",
       "      <td>0</td>\n",
       "      <td>0</td>\n",
       "      <td>1</td>\n",
       "      <td>0</td>\n",
       "      <td>0</td>\n",
       "      <td>0</td>\n",
       "      <td>0</td>\n",
       "      <td>0</td>\n",
       "      <td>0</td>\n",
       "    </tr>\n",
       "    <tr>\n",
       "      <th>6</th>\n",
       "      <td>0</td>\n",
       "      <td>0</td>\n",
       "      <td>0</td>\n",
       "      <td>0</td>\n",
       "      <td>0</td>\n",
       "      <td>1</td>\n",
       "      <td>0</td>\n",
       "      <td>0</td>\n",
       "      <td>0</td>\n",
       "      <td>0</td>\n",
       "      <td>0</td>\n",
       "    </tr>\n",
       "    <tr>\n",
       "      <th>7</th>\n",
       "      <td>0</td>\n",
       "      <td>0</td>\n",
       "      <td>0</td>\n",
       "      <td>0</td>\n",
       "      <td>0</td>\n",
       "      <td>0</td>\n",
       "      <td>1</td>\n",
       "      <td>0</td>\n",
       "      <td>0</td>\n",
       "      <td>0</td>\n",
       "      <td>0</td>\n",
       "    </tr>\n",
       "    <tr>\n",
       "      <th>8</th>\n",
       "      <td>0</td>\n",
       "      <td>0</td>\n",
       "      <td>0</td>\n",
       "      <td>0</td>\n",
       "      <td>0</td>\n",
       "      <td>0</td>\n",
       "      <td>0</td>\n",
       "      <td>1</td>\n",
       "      <td>0</td>\n",
       "      <td>0</td>\n",
       "      <td>0</td>\n",
       "    </tr>\n",
       "    <tr>\n",
       "      <th>9</th>\n",
       "      <td>0</td>\n",
       "      <td>0</td>\n",
       "      <td>0</td>\n",
       "      <td>0</td>\n",
       "      <td>0</td>\n",
       "      <td>0</td>\n",
       "      <td>0</td>\n",
       "      <td>0</td>\n",
       "      <td>1</td>\n",
       "      <td>0</td>\n",
       "      <td>0</td>\n",
       "    </tr>\n",
       "    <tr>\n",
       "      <th>10</th>\n",
       "      <td>0</td>\n",
       "      <td>0</td>\n",
       "      <td>0</td>\n",
       "      <td>0</td>\n",
       "      <td>0</td>\n",
       "      <td>0</td>\n",
       "      <td>0</td>\n",
       "      <td>0</td>\n",
       "      <td>0</td>\n",
       "      <td>1</td>\n",
       "      <td>0</td>\n",
       "    </tr>\n",
       "    <tr>\n",
       "      <th>11</th>\n",
       "      <td>0</td>\n",
       "      <td>0</td>\n",
       "      <td>0</td>\n",
       "      <td>0</td>\n",
       "      <td>0</td>\n",
       "      <td>0</td>\n",
       "      <td>0</td>\n",
       "      <td>0</td>\n",
       "      <td>0</td>\n",
       "      <td>0</td>\n",
       "      <td>1</td>\n",
       "    </tr>\n",
       "  </tbody>\n",
       "</table>\n",
       "</div>"
      ],
      "text/plain": [
       "    02/2018  03/2018  04/2018  05/2018  06/2018  07/2018  08/2018  09/2018  \\\n",
       "0         0        0        0        0        0        0        0        0   \n",
       "1         1        0        0        0        0        0        0        0   \n",
       "2         0        1        0        0        0        0        0        0   \n",
       "3         0        0        1        0        0        0        0        0   \n",
       "4         0        0        0        1        0        0        0        0   \n",
       "5         0        0        0        0        1        0        0        0   \n",
       "6         0        0        0        0        0        1        0        0   \n",
       "7         0        0        0        0        0        0        1        0   \n",
       "8         0        0        0        0        0        0        0        1   \n",
       "9         0        0        0        0        0        0        0        0   \n",
       "10        0        0        0        0        0        0        0        0   \n",
       "11        0        0        0        0        0        0        0        0   \n",
       "\n",
       "    10/2018  11/2018  12/2017  \n",
       "0         0        0        0  \n",
       "1         0        0        0  \n",
       "2         0        0        0  \n",
       "3         0        0        0  \n",
       "4         0        0        0  \n",
       "5         0        0        0  \n",
       "6         0        0        0  \n",
       "7         0        0        0  \n",
       "8         0        0        0  \n",
       "9         1        0        0  \n",
       "10        0        1        0  \n",
       "11        0        0        1  "
      ]
     },
     "execution_count": 57,
     "metadata": {},
     "output_type": "execute_result"
    }
   ],
   "source": [
    "x_sort=pd.get_dummies(x_sort,drop_first=True)\n",
    "x_sort"
   ]
  },
  {
   "cell_type": "code",
   "execution_count": 58,
   "id": "a5c453b5",
   "metadata": {},
   "outputs": [],
   "source": [
    "from sklearn.ensemble import RandomForestRegressor"
   ]
  },
  {
   "cell_type": "code",
   "execution_count": 59,
   "id": "3cf7ad5e",
   "metadata": {},
   "outputs": [],
   "source": [
    "rclf=RandomForestRegressor()"
   ]
  },
  {
   "cell_type": "code",
   "execution_count": 60,
   "id": "34a4198c",
   "metadata": {},
   "outputs": [
    {
     "name": "stdout",
     "output_type": "stream",
     "text": [
      "(12, 11)\n",
      "(12,)\n"
     ]
    }
   ],
   "source": [
    "print(x_sort.shape)\n",
    "print(y.shape)"
   ]
  },
  {
   "cell_type": "code",
   "execution_count": 61,
   "id": "37880804",
   "metadata": {},
   "outputs": [
    {
     "data": {
      "text/plain": [
       "RandomForestRegressor()"
      ]
     },
     "execution_count": 61,
     "metadata": {},
     "output_type": "execute_result"
    }
   ],
   "source": [
    "rclf.fit(x_sort,y)"
   ]
  },
  {
   "cell_type": "code",
   "execution_count": 62,
   "id": "65817812",
   "metadata": {},
   "outputs": [],
   "source": [
    "y_pr=rclf.predict(x_sort)"
   ]
  },
  {
   "cell_type": "code",
   "execution_count": 63,
   "id": "32754a83",
   "metadata": {},
   "outputs": [
    {
     "data": {
      "text/html": [
       "<div>\n",
       "<style scoped>\n",
       "    .dataframe tbody tr th:only-of-type {\n",
       "        vertical-align: middle;\n",
       "    }\n",
       "\n",
       "    .dataframe tbody tr th {\n",
       "        vertical-align: top;\n",
       "    }\n",
       "\n",
       "    .dataframe thead th {\n",
       "        text-align: right;\n",
       "    }\n",
       "</style>\n",
       "<table border=\"1\" class=\"dataframe\">\n",
       "  <thead>\n",
       "    <tr style=\"text-align: right;\">\n",
       "      <th></th>\n",
       "      <th>Source_B</th>\n",
       "      <th>Source_C</th>\n",
       "      <th>Source_D</th>\n",
       "      <th>dateofbook</th>\n",
       "      <th>duration</th>\n",
       "    </tr>\n",
       "  </thead>\n",
       "  <tbody>\n",
       "    <tr>\n",
       "      <th>0</th>\n",
       "      <td>0</td>\n",
       "      <td>0</td>\n",
       "      <td>1</td>\n",
       "      <td>170</td>\n",
       "      <td>1</td>\n",
       "    </tr>\n",
       "    <tr>\n",
       "      <th>1</th>\n",
       "      <td>0</td>\n",
       "      <td>1</td>\n",
       "      <td>0</td>\n",
       "      <td>296</td>\n",
       "      <td>0</td>\n",
       "    </tr>\n",
       "    <tr>\n",
       "      <th>2</th>\n",
       "      <td>0</td>\n",
       "      <td>1</td>\n",
       "      <td>0</td>\n",
       "      <td>344</td>\n",
       "      <td>3</td>\n",
       "    </tr>\n",
       "    <tr>\n",
       "      <th>3</th>\n",
       "      <td>1</td>\n",
       "      <td>0</td>\n",
       "      <td>0</td>\n",
       "      <td>132</td>\n",
       "      <td>4</td>\n",
       "    </tr>\n",
       "    <tr>\n",
       "      <th>4</th>\n",
       "      <td>1</td>\n",
       "      <td>0</td>\n",
       "      <td>0</td>\n",
       "      <td>247</td>\n",
       "      <td>1</td>\n",
       "    </tr>\n",
       "    <tr>\n",
       "      <th>...</th>\n",
       "      <td>...</td>\n",
       "      <td>...</td>\n",
       "      <td>...</td>\n",
       "      <td>...</td>\n",
       "      <td>...</td>\n",
       "    </tr>\n",
       "    <tr>\n",
       "      <th>30935</th>\n",
       "      <td>0</td>\n",
       "      <td>1</td>\n",
       "      <td>0</td>\n",
       "      <td>302</td>\n",
       "      <td>3</td>\n",
       "    </tr>\n",
       "    <tr>\n",
       "      <th>30936</th>\n",
       "      <td>0</td>\n",
       "      <td>0</td>\n",
       "      <td>0</td>\n",
       "      <td>101</td>\n",
       "      <td>4</td>\n",
       "    </tr>\n",
       "    <tr>\n",
       "      <th>30937</th>\n",
       "      <td>0</td>\n",
       "      <td>1</td>\n",
       "      <td>0</td>\n",
       "      <td>35</td>\n",
       "      <td>5</td>\n",
       "    </tr>\n",
       "    <tr>\n",
       "      <th>30938</th>\n",
       "      <td>0</td>\n",
       "      <td>1</td>\n",
       "      <td>0</td>\n",
       "      <td>87</td>\n",
       "      <td>5</td>\n",
       "    </tr>\n",
       "    <tr>\n",
       "      <th>30939</th>\n",
       "      <td>1</td>\n",
       "      <td>0</td>\n",
       "      <td>0</td>\n",
       "      <td>150</td>\n",
       "      <td>3</td>\n",
       "    </tr>\n",
       "  </tbody>\n",
       "</table>\n",
       "<p>30940 rows × 5 columns</p>\n",
       "</div>"
      ],
      "text/plain": [
       "       Source_B  Source_C  Source_D  dateofbook  duration\n",
       "0             0         0         1         170         1\n",
       "1             0         1         0         296         0\n",
       "2             0         1         0         344         3\n",
       "3             1         0         0         132         4\n",
       "4             1         0         0         247         1\n",
       "...         ...       ...       ...         ...       ...\n",
       "30935         0         1         0         302         3\n",
       "30936         0         0         0         101         4\n",
       "30937         0         1         0          35         5\n",
       "30938         0         1         0          87         5\n",
       "30939         1         0         0         150         3\n",
       "\n",
       "[30940 rows x 5 columns]"
      ]
     },
     "execution_count": 63,
     "metadata": {},
     "output_type": "execute_result"
    }
   ],
   "source": [
    "# Actual values of X\n",
    "x"
   ]
  },
  {
   "cell_type": "code",
   "execution_count": 64,
   "id": "816a6f58",
   "metadata": {},
   "outputs": [
    {
     "data": {
      "text/html": [
       "<div>\n",
       "<style scoped>\n",
       "    .dataframe tbody tr th:only-of-type {\n",
       "        vertical-align: middle;\n",
       "    }\n",
       "\n",
       "    .dataframe tbody tr th {\n",
       "        vertical-align: top;\n",
       "    }\n",
       "\n",
       "    .dataframe thead th {\n",
       "        text-align: right;\n",
       "    }\n",
       "</style>\n",
       "<table border=\"1\" class=\"dataframe\">\n",
       "  <thead>\n",
       "    <tr style=\"text-align: right;\">\n",
       "      <th></th>\n",
       "      <th>02/2018</th>\n",
       "      <th>03/2018</th>\n",
       "      <th>04/2018</th>\n",
       "      <th>05/2018</th>\n",
       "      <th>06/2018</th>\n",
       "      <th>07/2018</th>\n",
       "      <th>08/2018</th>\n",
       "      <th>09/2018</th>\n",
       "      <th>10/2018</th>\n",
       "      <th>11/2018</th>\n",
       "      <th>12/2017</th>\n",
       "    </tr>\n",
       "  </thead>\n",
       "  <tbody>\n",
       "    <tr>\n",
       "      <th>0</th>\n",
       "      <td>0</td>\n",
       "      <td>0</td>\n",
       "      <td>0</td>\n",
       "      <td>0</td>\n",
       "      <td>0</td>\n",
       "      <td>0</td>\n",
       "      <td>0</td>\n",
       "      <td>0</td>\n",
       "      <td>0</td>\n",
       "      <td>0</td>\n",
       "      <td>0</td>\n",
       "    </tr>\n",
       "    <tr>\n",
       "      <th>1</th>\n",
       "      <td>1</td>\n",
       "      <td>0</td>\n",
       "      <td>0</td>\n",
       "      <td>0</td>\n",
       "      <td>0</td>\n",
       "      <td>0</td>\n",
       "      <td>0</td>\n",
       "      <td>0</td>\n",
       "      <td>0</td>\n",
       "      <td>0</td>\n",
       "      <td>0</td>\n",
       "    </tr>\n",
       "    <tr>\n",
       "      <th>2</th>\n",
       "      <td>0</td>\n",
       "      <td>1</td>\n",
       "      <td>0</td>\n",
       "      <td>0</td>\n",
       "      <td>0</td>\n",
       "      <td>0</td>\n",
       "      <td>0</td>\n",
       "      <td>0</td>\n",
       "      <td>0</td>\n",
       "      <td>0</td>\n",
       "      <td>0</td>\n",
       "    </tr>\n",
       "    <tr>\n",
       "      <th>3</th>\n",
       "      <td>0</td>\n",
       "      <td>0</td>\n",
       "      <td>1</td>\n",
       "      <td>0</td>\n",
       "      <td>0</td>\n",
       "      <td>0</td>\n",
       "      <td>0</td>\n",
       "      <td>0</td>\n",
       "      <td>0</td>\n",
       "      <td>0</td>\n",
       "      <td>0</td>\n",
       "    </tr>\n",
       "    <tr>\n",
       "      <th>4</th>\n",
       "      <td>0</td>\n",
       "      <td>0</td>\n",
       "      <td>0</td>\n",
       "      <td>1</td>\n",
       "      <td>0</td>\n",
       "      <td>0</td>\n",
       "      <td>0</td>\n",
       "      <td>0</td>\n",
       "      <td>0</td>\n",
       "      <td>0</td>\n",
       "      <td>0</td>\n",
       "    </tr>\n",
       "    <tr>\n",
       "      <th>5</th>\n",
       "      <td>0</td>\n",
       "      <td>0</td>\n",
       "      <td>0</td>\n",
       "      <td>0</td>\n",
       "      <td>1</td>\n",
       "      <td>0</td>\n",
       "      <td>0</td>\n",
       "      <td>0</td>\n",
       "      <td>0</td>\n",
       "      <td>0</td>\n",
       "      <td>0</td>\n",
       "    </tr>\n",
       "    <tr>\n",
       "      <th>6</th>\n",
       "      <td>0</td>\n",
       "      <td>0</td>\n",
       "      <td>0</td>\n",
       "      <td>0</td>\n",
       "      <td>0</td>\n",
       "      <td>1</td>\n",
       "      <td>0</td>\n",
       "      <td>0</td>\n",
       "      <td>0</td>\n",
       "      <td>0</td>\n",
       "      <td>0</td>\n",
       "    </tr>\n",
       "    <tr>\n",
       "      <th>7</th>\n",
       "      <td>0</td>\n",
       "      <td>0</td>\n",
       "      <td>0</td>\n",
       "      <td>0</td>\n",
       "      <td>0</td>\n",
       "      <td>0</td>\n",
       "      <td>1</td>\n",
       "      <td>0</td>\n",
       "      <td>0</td>\n",
       "      <td>0</td>\n",
       "      <td>0</td>\n",
       "    </tr>\n",
       "    <tr>\n",
       "      <th>8</th>\n",
       "      <td>0</td>\n",
       "      <td>0</td>\n",
       "      <td>0</td>\n",
       "      <td>0</td>\n",
       "      <td>0</td>\n",
       "      <td>0</td>\n",
       "      <td>0</td>\n",
       "      <td>1</td>\n",
       "      <td>0</td>\n",
       "      <td>0</td>\n",
       "      <td>0</td>\n",
       "    </tr>\n",
       "    <tr>\n",
       "      <th>9</th>\n",
       "      <td>0</td>\n",
       "      <td>0</td>\n",
       "      <td>0</td>\n",
       "      <td>0</td>\n",
       "      <td>0</td>\n",
       "      <td>0</td>\n",
       "      <td>0</td>\n",
       "      <td>0</td>\n",
       "      <td>1</td>\n",
       "      <td>0</td>\n",
       "      <td>0</td>\n",
       "    </tr>\n",
       "    <tr>\n",
       "      <th>10</th>\n",
       "      <td>0</td>\n",
       "      <td>0</td>\n",
       "      <td>0</td>\n",
       "      <td>0</td>\n",
       "      <td>0</td>\n",
       "      <td>0</td>\n",
       "      <td>0</td>\n",
       "      <td>0</td>\n",
       "      <td>0</td>\n",
       "      <td>1</td>\n",
       "      <td>0</td>\n",
       "    </tr>\n",
       "    <tr>\n",
       "      <th>11</th>\n",
       "      <td>0</td>\n",
       "      <td>0</td>\n",
       "      <td>0</td>\n",
       "      <td>0</td>\n",
       "      <td>0</td>\n",
       "      <td>0</td>\n",
       "      <td>0</td>\n",
       "      <td>0</td>\n",
       "      <td>0</td>\n",
       "      <td>0</td>\n",
       "      <td>1</td>\n",
       "    </tr>\n",
       "  </tbody>\n",
       "</table>\n",
       "</div>"
      ],
      "text/plain": [
       "    02/2018  03/2018  04/2018  05/2018  06/2018  07/2018  08/2018  09/2018  \\\n",
       "0         0        0        0        0        0        0        0        0   \n",
       "1         1        0        0        0        0        0        0        0   \n",
       "2         0        1        0        0        0        0        0        0   \n",
       "3         0        0        1        0        0        0        0        0   \n",
       "4         0        0        0        1        0        0        0        0   \n",
       "5         0        0        0        0        1        0        0        0   \n",
       "6         0        0        0        0        0        1        0        0   \n",
       "7         0        0        0        0        0        0        1        0   \n",
       "8         0        0        0        0        0        0        0        1   \n",
       "9         0        0        0        0        0        0        0        0   \n",
       "10        0        0        0        0        0        0        0        0   \n",
       "11        0        0        0        0        0        0        0        0   \n",
       "\n",
       "    10/2018  11/2018  12/2017  \n",
       "0         0        0        0  \n",
       "1         0        0        0  \n",
       "2         0        0        0  \n",
       "3         0        0        0  \n",
       "4         0        0        0  \n",
       "5         0        0        0  \n",
       "6         0        0        0  \n",
       "7         0        0        0  \n",
       "8         0        0        0  \n",
       "9         1        0        0  \n",
       "10        0        1        0  \n",
       "11        0        0        1  "
      ]
     },
     "execution_count": 64,
     "metadata": {},
     "output_type": "execute_result"
    }
   ],
   "source": [
    "#Encoded values of dates\n",
    "x_sort"
   ]
  },
  {
   "cell_type": "code",
   "execution_count": 65,
   "id": "c093b9dc",
   "metadata": {},
   "outputs": [
    {
     "data": {
      "text/plain": [
       "(12, 11)"
      ]
     },
     "execution_count": 65,
     "metadata": {},
     "output_type": "execute_result"
    }
   ],
   "source": [
    "x_sort.shape"
   ]
  },
  {
   "cell_type": "code",
   "execution_count": 66,
   "id": "5bacbe0b",
   "metadata": {},
   "outputs": [
    {
     "data": {
      "text/plain": [
       "array([2600.28])"
      ]
     },
     "execution_count": 66,
     "metadata": {},
     "output_type": "execute_result"
    }
   ],
   "source": [
    "# Here we are predicting repeated users in November 2018\n",
    "rclf.predict([[0,0,0,0,0,0,0,0,0,1,0]])"
   ]
  },
  {
   "cell_type": "markdown",
   "id": "f9eb4fda",
   "metadata": {},
   "source": [
    "### Result: No.of repeated values are 2600"
   ]
  },
  {
   "cell_type": "code",
   "execution_count": 67,
   "id": "ea4737dd",
   "metadata": {},
   "outputs": [
    {
     "data": {
      "text/plain": [
       "0.8181998532448138"
      ]
     },
     "execution_count": 67,
     "metadata": {},
     "output_type": "execute_result"
    }
   ],
   "source": [
    "r2_score(y,y_pr)"
   ]
  },
  {
   "cell_type": "markdown",
   "id": "3ca85300",
   "metadata": {},
   "source": [
    "R2_score is 81% "
   ]
  },
  {
   "cell_type": "markdown",
   "id": "f7eab1ef",
   "metadata": {},
   "source": [
    "### 5.    Plot the distribution of users by frequency of their 90-day repeat (Number of times user repeated within first 90 days)\n"
   ]
  },
  {
   "cell_type": "code",
   "execution_count": 68,
   "id": "b9ca6fd9",
   "metadata": {},
   "outputs": [
    {
     "data": {
      "text/plain": [
       "Date_of_Booking\n",
       "2017-12-01    188\n",
       "2017-12-02     88\n",
       "2017-12-03     87\n",
       "2017-12-04     71\n",
       "2017-12-05     89\n",
       "             ... \n",
       "2018-02-24     99\n",
       "2018-02-25     86\n",
       "2018-02-26     95\n",
       "2018-02-27     87\n",
       "2018-02-28     81\n",
       "Name: Profile ID, Length: 90, dtype: int64"
      ]
     },
     "execution_count": 68,
     "metadata": {},
     "output_type": "execute_result"
    }
   ],
   "source": [
    "new=df.groupby('Date_of_Booking')['Profile ID'].count()\n",
    "new[:90]"
   ]
  },
  {
   "cell_type": "code",
   "execution_count": 69,
   "id": "1d499b5e",
   "metadata": {},
   "outputs": [
    {
     "data": {
      "text/plain": [
       "array([188,  88,  87,  71,  89,  82,  88, 104,  83,  94,  88,  88,  84,\n",
       "        73,  79,  86,  86,  81, 101,  73,  88,  97,  80,  83,  89,  88,\n",
       "        84,  79,  67,  88, 105,  76,  80,  72,  77,  85,  81,  75,  85,\n",
       "        76,  92, 102,  83,  95,  93,  77,  91,  70, 102,  81,  76,  99,\n",
       "        82, 117, 105,  76,  70,  97,  74,  92,  98,  96,  72,  77,  64,\n",
       "        86,  80,  80,  94,  81, 102,  78, 100,  83,  72,  70,  80,  94,\n",
       "       100, 105,  87,  92,  84,  95,  79,  99,  86,  95,  87,  81],\n",
       "      dtype=int64)"
      ]
     },
     "execution_count": 69,
     "metadata": {},
     "output_type": "execute_result"
    }
   ],
   "source": [
    "new[:90].values"
   ]
  },
  {
   "cell_type": "code",
   "execution_count": 70,
   "id": "40705d27",
   "metadata": {},
   "outputs": [
    {
     "data": {
      "image/png": "[encoded data removed]",
      "text/plain": [
       "<Figure size 720x360 with 1 Axes>"
      ]
     },
     "metadata": {
      "needs_background": "light"
     },
     "output_type": "display_data"
    }
   ],
   "source": [
    "fig, ax = plt.subplots(figsize =(10, 5))\n",
    "ax.hist(new[:90].values, bins = range(1,90))\n",
    "plt.title('Fist 90 days repeated users')\n",
    "plt.grid()\n",
    "plt.xlabel('Days of repeated')\n",
    "plt.show()"
   ]
  },
  {
   "cell_type": "markdown",
   "id": "15258008",
   "metadata": {},
   "source": [
    "## Thank you..."
   ]
  }
 ],
 "metadata": {
  "kernelspec": {
   "display_name": "Python 3 (ipykernel)",
   "language": "python",
   "name": "python3"
  },
  "language_info": {
   "codemirror_mode": {
    "name": "ipython",
    "version": 3
   },
   "file_extension": ".py",
   "mimetype": "text/x-python",
   "name": "python",
   "nbconvert_exporter": "python",
   "pygments_lexer": "ipython3",
   "version": "3.7.3"
  }
 },
 "nbformat": 4,
 "nbformat_minor": 5
}
